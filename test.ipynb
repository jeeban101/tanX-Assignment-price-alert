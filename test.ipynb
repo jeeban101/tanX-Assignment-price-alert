{
 "cells": [
  {
   "cell_type": "code",
   "execution_count": 57,
   "metadata": {},
   "outputs": [
    {
     "data": {
      "text/plain": [
       "'wss://stream.binance.com/ws'"
      ]
     },
     "execution_count": 57,
     "metadata": {},
     "output_type": "execute_result"
    }
   ],
   "source": [
    "SOCK_URL = f\"wss://stream.binance.com/stream?streams=btcusdt@trade/ethusdt@trade/xrpusdt@trade/ltcusdt@trade/bchusdt@trade/eosusdt@trade/xlmusdt@trade/adausdt@trade/trxusdt@trade/neousdt@trade/iotausdt@trade/dashusdt@trade/xemusdt@trade/venusdt@trade/ethbtc@trade/xrpbtc@trade/ltcbtc@trade/bchbtc@trade/eosbtc@trade/xlmbtc@trade/adabtc@trade/trxbtc@trade/neobtc@trade/iotabtc@trade/dashbtc@trade/xembtc@trade/venbtc@trade\"\n",
    "SOCK_URL"
   ]
  },
  {
   "cell_type": "code",
   "execution_count": 58,
   "metadata": {},
   "outputs": [],
   "source": [
    "import websocket\n",
    "import json\n",
    "import pprint\n",
    "import gzip\n",
    "\n",
    "\n",
    "def on_message(ws, message):\n",
    "    print(message)\n",
    "\n",
    "\n",
    "def on_close(ws, close_status_code, close_msg):\n",
    "    print(\"### closed ###\")\n",
    "\n",
    "\n",
    "def on_open(ws):\n",
    "    print(\"### open ###\")\n",
    "    \n",
    "\n",
    "def on_error(ws, error):\n",
    "    print(error)\n",
    "\n",
    "websocket.enableTrace(True)\n",
    "ws = websocket.WebSocketApp(SOCK_URL, on_open=on_open, on_close=on_close, on_message=on_message, on_error=on_error)"
   ]
  },
  {
   "cell_type": "code",
   "execution_count": null,
   "metadata": {},
   "outputs": [],
   "source": [
    "from flask_sqlalchemy import SQLAlchemy\n",
    "\n",
    "def getActiveRequests():\n"
   ]
  },
  {
   "cell_type": "code",
   "execution_count": 1,
   "metadata": {},
   "outputs": [],
   "source": [
    "import websocket\n",
    "import json\n",
    "import threading\n",
    "\n",
    "SOCK_URL = f\"wss://stream.binance.com/ws\"\n",
    "\n",
    "active_reqs = []\n",
    "\n",
    "def createSocket():\n",
    "    def on_message(ws, message):\n",
    "        data = json.loads(message)  \n",
    "\n",
    "        # print(data)\n",
    "        reqMsg = {\"coin\" : data[\"s\"][:-4].upper(), \"price\" : data[\"k\"][\"c\"]}\n",
    "        print(reqMsg)\n",
    "\n",
    "    def on_close(ws, close_status_code, close_msg):\n",
    "        print(\"### closed ###\")\n",
    "\n",
    "    def on_open(ws):\n",
    "        print(\"### open ###\")\n",
    "        \n",
    "\n",
    "    def on_error(ws, error):\n",
    "        \n",
    "        print(error)\n",
    "\n",
    "    def runSock(ws):\n",
    "        ws.run_forever()\n",
    "\n",
    "\n",
    "    websocket.enableTrace(False)\n",
    "\n",
    "    ws = websocket.WebSocketApp(SOCK_URL, on_open=on_open, on_close=on_close, on_message=on_message, on_error=on_error)\n",
    "\n",
    "    wsThread = threading.Thread(target=runSock, args=(ws,))\n",
    "    wsThread.daemon = True\n",
    "    wsThread.start()\n",
    "\n",
    "    return ws\n"
   ]
  },
  {
   "cell_type": "code",
   "execution_count": 2,
   "metadata": {},
   "outputs": [
    {
     "data": {
      "text/plain": [
       "<websocket._app.WebSocketApp at 0x1e4fa779b20>"
      ]
     },
     "execution_count": 2,
     "metadata": {},
     "output_type": "execute_result"
    },
    {
     "name": "stdout",
     "output_type": "stream",
     "text": [
      "### open ###\n"
     ]
    }
   ],
   "source": [
    "ws = createSocket()\n",
    "ws"
   ]
  },
  {
   "cell_type": "code",
   "execution_count": 3,
   "metadata": {},
   "outputs": [
    {
     "name": "stdout",
     "output_type": "stream",
     "text": [
      "'s'\n",
      "{'coin': 'BTC', 'price': '43146.98000000'}\n",
      "{'coin': 'ETH', 'price': '2306.86000000'}\n",
      "{'coin': 'BTC', 'price': '43146.98000000'}\n",
      "{'coin': 'ETH', 'price': '2307.18000000'}\n",
      "{'coin': 'BTC', 'price': '43146.98000000'}\n",
      "{'coin': 'ETH', 'price': '2307.50000000'}\n",
      "{'coin': 'ETH', 'price': '2307.60000000'}\n"
     ]
    }
   ],
   "source": [
    "ws.send(json.dumps({\"method\": \"SUBSCRIBE\", \"params\": [\"btcusdt@kline_1m\", \"ethusdt@kline_1m\"], \"id\": 1}))"
   ]
  },
  {
   "cell_type": "code",
   "execution_count": 59,
   "metadata": {},
   "outputs": [
    {
     "name": "stderr",
     "output_type": "stream",
     "text": [
      "Websocket connected\n"
     ]
    },
    {
     "name": "stdout",
     "output_type": "stream",
     "text": [
      "### open ###\n"
     ]
    },
    {
     "name": "stderr",
     "output_type": "stream",
     "text": [
      "tearing down on exception \n"
     ]
    },
    {
     "name": "stdout",
     "output_type": "stream",
     "text": [
      "\n",
      "### closed ###\n"
     ]
    },
    {
     "ename": "WebSocketConnectionClosedException",
     "evalue": "Connection is already closed.",
     "output_type": "error",
     "traceback": [
      "\u001b[1;31m---------------------------------------------------------------------------\u001b[0m",
      "\u001b[1;31mWebSocketConnectionClosedException\u001b[0m        Traceback (most recent call last)",
      "Cell \u001b[1;32mIn[59], line 2\u001b[0m\n\u001b[0;32m      1\u001b[0m ws\u001b[38;5;241m.\u001b[39mrun_forever()\n\u001b[1;32m----> 2\u001b[0m \u001b[43mws\u001b[49m\u001b[38;5;241;43m.\u001b[39;49m\u001b[43msend\u001b[49m\u001b[43m(\u001b[49m\u001b[43mjson\u001b[49m\u001b[38;5;241;43m.\u001b[39;49m\u001b[43mdumps\u001b[49m\u001b[43m(\u001b[49m\u001b[43m{\u001b[49m\u001b[38;5;124;43m\"\u001b[39;49m\u001b[38;5;124;43mmethod\u001b[39;49m\u001b[38;5;124;43m\"\u001b[39;49m\u001b[43m:\u001b[49m\u001b[43m \u001b[49m\u001b[38;5;124;43m\"\u001b[39;49m\u001b[38;5;124;43mSUBSCRIBE\u001b[39;49m\u001b[38;5;124;43m\"\u001b[39;49m\u001b[43m,\u001b[49m\u001b[43m \u001b[49m\u001b[38;5;124;43m\"\u001b[39;49m\u001b[38;5;124;43mparams\u001b[39;49m\u001b[38;5;124;43m\"\u001b[39;49m\u001b[43m:\u001b[49m\u001b[43m \u001b[49m\u001b[43m[\u001b[49m\u001b[38;5;124;43m\"\u001b[39;49m\u001b[38;5;124;43mbtcusdt@kline_1m\u001b[39;49m\u001b[38;5;124;43m\"\u001b[39;49m\u001b[43m,\u001b[49m\u001b[43m \u001b[49m\u001b[38;5;124;43m\"\u001b[39;49m\u001b[38;5;124;43methusdt@kline_1m\u001b[39;49m\u001b[38;5;124;43m\"\u001b[39;49m\u001b[43m]\u001b[49m\u001b[43m,\u001b[49m\u001b[43m \u001b[49m\u001b[38;5;124;43m\"\u001b[39;49m\u001b[38;5;124;43mid\u001b[39;49m\u001b[38;5;124;43m\"\u001b[39;49m\u001b[43m:\u001b[49m\u001b[43m \u001b[49m\u001b[38;5;241;43m1\u001b[39;49m\u001b[43m}\u001b[49m\u001b[43m)\u001b[49m\u001b[43m)\u001b[49m\n",
      "File \u001b[1;32md:\\Python\\Python39\\lib\\site-packages\\websocket\\_app.py:284\u001b[0m, in \u001b[0;36mWebSocketApp.send\u001b[1;34m(self, data, opcode)\u001b[0m\n\u001b[0;32m    271\u001b[0m \u001b[38;5;250m\u001b[39m\u001b[38;5;124;03m\"\"\"\u001b[39;00m\n\u001b[0;32m    272\u001b[0m \u001b[38;5;124;03msend message\u001b[39;00m\n\u001b[0;32m    273\u001b[0m \n\u001b[1;32m   (...)\u001b[0m\n\u001b[0;32m    280\u001b[0m \u001b[38;5;124;03m    Operation code of data. Default is OPCODE_TEXT.\u001b[39;00m\n\u001b[0;32m    281\u001b[0m \u001b[38;5;124;03m\"\"\"\u001b[39;00m\n\u001b[0;32m    283\u001b[0m \u001b[38;5;28;01mif\u001b[39;00m \u001b[38;5;129;01mnot\u001b[39;00m \u001b[38;5;28mself\u001b[39m\u001b[38;5;241m.\u001b[39msock \u001b[38;5;129;01mor\u001b[39;00m \u001b[38;5;28mself\u001b[39m\u001b[38;5;241m.\u001b[39msock\u001b[38;5;241m.\u001b[39msend(data, opcode) \u001b[38;5;241m==\u001b[39m \u001b[38;5;241m0\u001b[39m:\n\u001b[1;32m--> 284\u001b[0m     \u001b[38;5;28;01mraise\u001b[39;00m WebSocketConnectionClosedException(\u001b[38;5;124m\"\u001b[39m\u001b[38;5;124mConnection is already closed.\u001b[39m\u001b[38;5;124m\"\u001b[39m)\n",
      "\u001b[1;31mWebSocketConnectionClosedException\u001b[0m: Connection is already closed."
     ]
    }
   ],
   "source": [
    "ws.run_forever()\n",
    "ws.send(json.dumps({\"method\": \"SUBSCRIBE\", \"params\": [\"btcusdt@kline_1m\", \"ethusdt@kline_1m\"], \"id\": 1}))\n"
   ]
  }
 ],
 "metadata": {
  "kernelspec": {
   "display_name": "venv",
   "language": "python",
   "name": "python3"
  },
  "language_info": {
   "codemirror_mode": {
    "name": "ipython",
    "version": 3
   },
   "file_extension": ".py",
   "mimetype": "text/x-python",
   "name": "python",
   "nbconvert_exporter": "python",
   "pygments_lexer": "ipython3",
   "version": "3.9.0"
  }
 },
 "nbformat": 4,
 "nbformat_minor": 2
}
